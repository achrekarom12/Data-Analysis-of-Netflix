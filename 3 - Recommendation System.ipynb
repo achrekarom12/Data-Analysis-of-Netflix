{
 "cells": [
  {
   "cell_type": "markdown",
   "id": "83e16aa1",
   "metadata": {},
   "source": [
    "# Data Analysis of Movies & TV Shows available on OTT Platform"
   ]
  },
  {
   "cell_type": "markdown",
   "id": "5020362f",
   "metadata": {},
   "source": [
    "#### Team Members:\n",
    "1. Radha Vishwakarma\n",
    "2. Kshitij Shetty\n",
    "3. Om Achrekar"
   ]
  },
  {
   "cell_type": "markdown",
   "id": "15324010",
   "metadata": {},
   "source": [
    "<b>Problem Statement:</b> To perform data preprocessing and cleaning on the given data and to conclude some useful insights about the data."
   ]
  },
  {
   "cell_type": "markdown",
   "id": "62dceb55",
   "metadata": {},
   "source": [
    "Dataset used: https://www.kaggle.com/datasets/shivamb/netflix-shows"
   ]
  },
  {
   "cell_type": "markdown",
   "id": "e1046cc8",
   "metadata": {},
   "source": [
    "## 3. Recommendation System:"
   ]
  },
  {
   "cell_type": "markdown",
   "id": "5cd5558e",
   "metadata": {},
   "source": [
    "### Content based recommendation system:"
   ]
  },
  {
   "attachments": {},
   "cell_type": "markdown",
   "id": "f61f8b01",
   "metadata": {},
   "source": [
    "The TF-IDF(Term Frequency-Inverse Document Frequency (TF-IDF) ) score is the frequency of a word occurring in a document, down-weighted by the number of documents in which it occurs. This is done to reduce the importance of words that occur frequently in plot overviews and therefore, their significance in computing the final similarity score."
   ]
  },
  {
   "cell_type": "code",
   "execution_count": 26,
   "id": "92e9d392",
   "metadata": {
    "scrolled": true
   },
   "outputs": [
    {
     "data": {
      "text/html": [
       "<div>\n",
       "<style scoped>\n",
       "    .dataframe tbody tr th:only-of-type {\n",
       "        vertical-align: middle;\n",
       "    }\n",
       "\n",
       "    .dataframe tbody tr th {\n",
       "        vertical-align: top;\n",
       "    }\n",
       "\n",
       "    .dataframe thead th {\n",
       "        text-align: right;\n",
       "    }\n",
       "</style>\n",
       "<table border=\"1\" class=\"dataframe\">\n",
       "  <thead>\n",
       "    <tr style=\"text-align: right;\">\n",
       "      <th></th>\n",
       "      <th>Unnamed: 0</th>\n",
       "      <th>show_id</th>\n",
       "      <th>type</th>\n",
       "      <th>title</th>\n",
       "      <th>director</th>\n",
       "      <th>cast</th>\n",
       "      <th>country</th>\n",
       "      <th>release_year</th>\n",
       "      <th>rating</th>\n",
       "      <th>listed_in</th>\n",
       "      <th>description</th>\n",
       "      <th>date_n</th>\n",
       "      <th>runtime</th>\n",
       "      <th>seasons</th>\n",
       "    </tr>\n",
       "  </thead>\n",
       "  <tbody>\n",
       "    <tr>\n",
       "      <th>0</th>\n",
       "      <td>7790</td>\n",
       "      <td>s7791</td>\n",
       "      <td>Movie</td>\n",
       "      <td>Prelude to War</td>\n",
       "      <td>Frank Capra</td>\n",
       "      <td>NaN</td>\n",
       "      <td>United States</td>\n",
       "      <td>1942</td>\n",
       "      <td>TV-14</td>\n",
       "      <td>Classic Movies, Documentaries</td>\n",
       "      <td>Frank Capra's documentary chronicles the rise ...</td>\n",
       "      <td>2017-03-31</td>\n",
       "      <td>52.0</td>\n",
       "      <td>NaN</td>\n",
       "    </tr>\n",
       "    <tr>\n",
       "      <th>1</th>\n",
       "      <td>8205</td>\n",
       "      <td>s8206</td>\n",
       "      <td>Movie</td>\n",
       "      <td>The Battle of Midway</td>\n",
       "      <td>John Ford</td>\n",
       "      <td>Henry Fonda, Jane Darwell</td>\n",
       "      <td>United States</td>\n",
       "      <td>1942</td>\n",
       "      <td>TV-14</td>\n",
       "      <td>Classic Movies, Documentaries</td>\n",
       "      <td>Director John Ford captures combat footage of ...</td>\n",
       "      <td>2017-03-31</td>\n",
       "      <td>18.0</td>\n",
       "      <td>NaN</td>\n",
       "    </tr>\n",
       "    <tr>\n",
       "      <th>2</th>\n",
       "      <td>8739</td>\n",
       "      <td>s8740</td>\n",
       "      <td>Movie</td>\n",
       "      <td>Why We Fight: The Battle of Russia</td>\n",
       "      <td>Frank Capra, Anatole Litvak</td>\n",
       "      <td>NaN</td>\n",
       "      <td>United States</td>\n",
       "      <td>1943</td>\n",
       "      <td>TV-PG</td>\n",
       "      <td>Documentaries</td>\n",
       "      <td>This installment of Frank Capra's acclaimed do...</td>\n",
       "      <td>2017-03-31</td>\n",
       "      <td>82.0</td>\n",
       "      <td>NaN</td>\n",
       "    </tr>\n",
       "    <tr>\n",
       "      <th>3</th>\n",
       "      <td>8660</td>\n",
       "      <td>s8661</td>\n",
       "      <td>Movie</td>\n",
       "      <td>Undercover: How to Operate Behind Enemy Lines</td>\n",
       "      <td>John Ford</td>\n",
       "      <td>NaN</td>\n",
       "      <td>United States</td>\n",
       "      <td>1943</td>\n",
       "      <td>TV-PG</td>\n",
       "      <td>Classic Movies, Documentaries</td>\n",
       "      <td>This World War II-era training film dramatizes...</td>\n",
       "      <td>2017-03-31</td>\n",
       "      <td>61.0</td>\n",
       "      <td>NaN</td>\n",
       "    </tr>\n",
       "    <tr>\n",
       "      <th>4</th>\n",
       "      <td>8763</td>\n",
       "      <td>s8764</td>\n",
       "      <td>Movie</td>\n",
       "      <td>WWII: Report from the Aleutians</td>\n",
       "      <td>John Huston</td>\n",
       "      <td>NaN</td>\n",
       "      <td>United States</td>\n",
       "      <td>1943</td>\n",
       "      <td>TV-PG</td>\n",
       "      <td>Documentaries</td>\n",
       "      <td>Filmmaker John Huston narrates this Oscar-nomi...</td>\n",
       "      <td>2017-03-31</td>\n",
       "      <td>45.0</td>\n",
       "      <td>NaN</td>\n",
       "    </tr>\n",
       "    <tr>\n",
       "      <th>...</th>\n",
       "      <td>...</td>\n",
       "      <td>...</td>\n",
       "      <td>...</td>\n",
       "      <td>...</td>\n",
       "      <td>...</td>\n",
       "      <td>...</td>\n",
       "      <td>...</td>\n",
       "      <td>...</td>\n",
       "      <td>...</td>\n",
       "      <td>...</td>\n",
       "      <td>...</td>\n",
       "      <td>...</td>\n",
       "      <td>...</td>\n",
       "      <td>...</td>\n",
       "    </tr>\n",
       "    <tr>\n",
       "      <th>7956</th>\n",
       "      <td>1260</td>\n",
       "      <td>s1261</td>\n",
       "      <td>Movie</td>\n",
       "      <td>Crazy About Her</td>\n",
       "      <td>Dani de la Orden</td>\n",
       "      <td>Álvaro Cervantes, Susana Abaitua, Luis Zahera,...</td>\n",
       "      <td>Spain</td>\n",
       "      <td>2021</td>\n",
       "      <td>TV-MA</td>\n",
       "      <td>Comedies, International Movies, Romantic Movies</td>\n",
       "      <td>After spending a wild night together, Adri dis...</td>\n",
       "      <td>2021-02-26</td>\n",
       "      <td>107.0</td>\n",
       "      <td>NaN</td>\n",
       "    </tr>\n",
       "    <tr>\n",
       "      <th>7957</th>\n",
       "      <td>1265</td>\n",
       "      <td>s1266</td>\n",
       "      <td>Movie</td>\n",
       "      <td>The Girl on the Train</td>\n",
       "      <td>Ribhu Dasgupta</td>\n",
       "      <td>Parineeti Chopra, Aditi Rao Hydari, Kirti Kulh...</td>\n",
       "      <td>India</td>\n",
       "      <td>2021</td>\n",
       "      <td>TV-MA</td>\n",
       "      <td>International Movies, Thrillers</td>\n",
       "      <td>A troubled divorcée fixates on a seemingly ide...</td>\n",
       "      <td>2021-02-26</td>\n",
       "      <td>120.0</td>\n",
       "      <td>NaN</td>\n",
       "    </tr>\n",
       "    <tr>\n",
       "      <th>7958</th>\n",
       "      <td>1269</td>\n",
       "      <td>s1270</td>\n",
       "      <td>Movie</td>\n",
       "      <td>Geez &amp; Ann</td>\n",
       "      <td>Rizki Balki</td>\n",
       "      <td>Hanggini, Junior Roberts, Roy Sungkono, Shenin...</td>\n",
       "      <td>Indonesia</td>\n",
       "      <td>2021</td>\n",
       "      <td>TV-PG</td>\n",
       "      <td>Dramas, International Movies, Romantic Movies</td>\n",
       "      <td>After falling for Geez, a heartthrob at school...</td>\n",
       "      <td>2021-02-25</td>\n",
       "      <td>106.0</td>\n",
       "      <td>NaN</td>\n",
       "    </tr>\n",
       "    <tr>\n",
       "      <th>7959</th>\n",
       "      <td>1230</td>\n",
       "      <td>s1231</td>\n",
       "      <td>Movie</td>\n",
       "      <td>Aelay</td>\n",
       "      <td>Halitha Shameem</td>\n",
       "      <td>P. Samuthirakani, Manikandan, Madhumathi Padma...</td>\n",
       "      <td>India</td>\n",
       "      <td>2021</td>\n",
       "      <td>TV-14</td>\n",
       "      <td>Comedies, Dramas, Independent Movies</td>\n",
       "      <td>A son stoically returns to his village upon hi...</td>\n",
       "      <td>2021-03-05</td>\n",
       "      <td>151.0</td>\n",
       "      <td>NaN</td>\n",
       "    </tr>\n",
       "    <tr>\n",
       "      <th>7960</th>\n",
       "      <td>198</td>\n",
       "      <td>s199</td>\n",
       "      <td>TV Show</td>\n",
       "      <td>King of Boys: The Return of the King</td>\n",
       "      <td>Kemi Adetiba</td>\n",
       "      <td>Sola Sobowale, Toni Tones, Richard Mofe-Damijo...</td>\n",
       "      <td>Nigeria</td>\n",
       "      <td>2021</td>\n",
       "      <td>TV-MA</td>\n",
       "      <td>Crime TV Shows, International TV Shows, TV Dramas</td>\n",
       "      <td>Alhaja Eniola Salami starts anew and sets her ...</td>\n",
       "      <td>2021-08-27</td>\n",
       "      <td>NaN</td>\n",
       "      <td>1.0</td>\n",
       "    </tr>\n",
       "  </tbody>\n",
       "</table>\n",
       "<p>7961 rows × 14 columns</p>\n",
       "</div>"
      ],
      "text/plain": [
       "      Unnamed: 0 show_id     type  \\\n",
       "0           7790   s7791    Movie   \n",
       "1           8205   s8206    Movie   \n",
       "2           8739   s8740    Movie   \n",
       "3           8660   s8661    Movie   \n",
       "4           8763   s8764    Movie   \n",
       "...          ...     ...      ...   \n",
       "7956        1260   s1261    Movie   \n",
       "7957        1265   s1266    Movie   \n",
       "7958        1269   s1270    Movie   \n",
       "7959        1230   s1231    Movie   \n",
       "7960         198    s199  TV Show   \n",
       "\n",
       "                                              title  \\\n",
       "0                                    Prelude to War   \n",
       "1                              The Battle of Midway   \n",
       "2                Why We Fight: The Battle of Russia   \n",
       "3     Undercover: How to Operate Behind Enemy Lines   \n",
       "4                   WWII: Report from the Aleutians   \n",
       "...                                             ...   \n",
       "7956                                Crazy About Her   \n",
       "7957                          The Girl on the Train   \n",
       "7958                                     Geez & Ann   \n",
       "7959                                          Aelay   \n",
       "7960           King of Boys: The Return of the King   \n",
       "\n",
       "                         director  \\\n",
       "0                     Frank Capra   \n",
       "1                       John Ford   \n",
       "2     Frank Capra, Anatole Litvak   \n",
       "3                       John Ford   \n",
       "4                     John Huston   \n",
       "...                           ...   \n",
       "7956             Dani de la Orden   \n",
       "7957               Ribhu Dasgupta   \n",
       "7958                  Rizki Balki   \n",
       "7959              Halitha Shameem   \n",
       "7960                 Kemi Adetiba   \n",
       "\n",
       "                                                   cast        country  \\\n",
       "0                                                   NaN  United States   \n",
       "1                             Henry Fonda, Jane Darwell  United States   \n",
       "2                                                   NaN  United States   \n",
       "3                                                   NaN  United States   \n",
       "4                                                   NaN  United States   \n",
       "...                                                 ...            ...   \n",
       "7956  Álvaro Cervantes, Susana Abaitua, Luis Zahera,...          Spain   \n",
       "7957  Parineeti Chopra, Aditi Rao Hydari, Kirti Kulh...          India   \n",
       "7958  Hanggini, Junior Roberts, Roy Sungkono, Shenin...      Indonesia   \n",
       "7959  P. Samuthirakani, Manikandan, Madhumathi Padma...          India   \n",
       "7960  Sola Sobowale, Toni Tones, Richard Mofe-Damijo...        Nigeria   \n",
       "\n",
       "      release_year rating                                          listed_in  \\\n",
       "0             1942  TV-14                      Classic Movies, Documentaries   \n",
       "1             1942  TV-14                      Classic Movies, Documentaries   \n",
       "2             1943  TV-PG                                      Documentaries   \n",
       "3             1943  TV-PG                      Classic Movies, Documentaries   \n",
       "4             1943  TV-PG                                      Documentaries   \n",
       "...            ...    ...                                                ...   \n",
       "7956          2021  TV-MA    Comedies, International Movies, Romantic Movies   \n",
       "7957          2021  TV-MA                    International Movies, Thrillers   \n",
       "7958          2021  TV-PG      Dramas, International Movies, Romantic Movies   \n",
       "7959          2021  TV-14               Comedies, Dramas, Independent Movies   \n",
       "7960          2021  TV-MA  Crime TV Shows, International TV Shows, TV Dramas   \n",
       "\n",
       "                                            description      date_n  runtime  \\\n",
       "0     Frank Capra's documentary chronicles the rise ...  2017-03-31     52.0   \n",
       "1     Director John Ford captures combat footage of ...  2017-03-31     18.0   \n",
       "2     This installment of Frank Capra's acclaimed do...  2017-03-31     82.0   \n",
       "3     This World War II-era training film dramatizes...  2017-03-31     61.0   \n",
       "4     Filmmaker John Huston narrates this Oscar-nomi...  2017-03-31     45.0   \n",
       "...                                                 ...         ...      ...   \n",
       "7956  After spending a wild night together, Adri dis...  2021-02-26    107.0   \n",
       "7957  A troubled divorcée fixates on a seemingly ide...  2021-02-26    120.0   \n",
       "7958  After falling for Geez, a heartthrob at school...  2021-02-25    106.0   \n",
       "7959  A son stoically returns to his village upon hi...  2021-03-05    151.0   \n",
       "7960  Alhaja Eniola Salami starts anew and sets her ...  2021-08-27      NaN   \n",
       "\n",
       "      seasons  \n",
       "0         NaN  \n",
       "1         NaN  \n",
       "2         NaN  \n",
       "3         NaN  \n",
       "4         NaN  \n",
       "...       ...  \n",
       "7956      NaN  \n",
       "7957      NaN  \n",
       "7958      NaN  \n",
       "7959      NaN  \n",
       "7960      1.0  \n",
       "\n",
       "[7961 rows x 14 columns]"
      ]
     },
     "execution_count": 26,
     "metadata": {},
     "output_type": "execute_result"
    }
   ],
   "source": [
    "df = pd.read_csv(\"/Users/omachrekar/Desktop/My Work/Data Science and Analytics Projects/Netflix EDA/df6.csv\")\n",
    "df"
   ]
  },
  {
   "cell_type": "markdown",
   "id": "24aa498a",
   "metadata": {},
   "source": [
    "### Content based filtering on single metrics:"
   ]
  },
  {
   "cell_type": "code",
   "execution_count": 27,
   "id": "144d4e7d",
   "metadata": {},
   "outputs": [],
   "source": [
    "from sklearn.feature_extraction.text import TfidfVectorizer"
   ]
  },
  {
   "cell_type": "code",
   "execution_count": 28,
   "id": "51fb7d75",
   "metadata": {},
   "outputs": [
    {
     "data": {
      "text/plain": [
       "(7961, 17996)"
      ]
     },
     "execution_count": 28,
     "metadata": {},
     "output_type": "execute_result"
    }
   ],
   "source": [
    "#removing stopwords\n",
    "tfidf = TfidfVectorizer(stop_words='english')\n",
    "\n",
    "#Replace NaN with an empty string\n",
    "df['description'] = df['description'].fillna('')\n",
    "\n",
    "#Construct the required TF-IDF matrix by fitting and transforming the data\n",
    "tfidf_matrix = tfidf.fit_transform(df['description'])\n",
    "\n",
    "#Output the shape of tfidf_matrix\n",
    "tfidf_matrix.shape"
   ]
  },
  {
   "cell_type": "code",
   "execution_count": 29,
   "id": "61d8ffd9",
   "metadata": {},
   "outputs": [],
   "source": [
    "# Import linear_kernel\n",
    "from sklearn.metrics.pairwise import linear_kernel\n",
    "\n",
    "# Compute the cosine similarity matrix\n",
    "cosine_sim = linear_kernel(tfidf_matrix, tfidf_matrix)"
   ]
  },
  {
   "cell_type": "code",
   "execution_count": 30,
   "id": "e276208c",
   "metadata": {},
   "outputs": [],
   "source": [
    "indices = pd.Series(df.index, index=df['title']).drop_duplicates()"
   ]
  },
  {
   "cell_type": "code",
   "execution_count": 31,
   "id": "c86ef522",
   "metadata": {},
   "outputs": [],
   "source": [
    "def get_recommendations(title, cosine_sim=cosine_sim):\n",
    "    idx = indices[title]\n",
    "\n",
    "    # Get the pairwsie similarity scores of all movies with that movie\n",
    "    sim_scores = list(enumerate(cosine_sim[idx]))\n",
    "\n",
    "    # Sort the movies based on the similarity scores\n",
    "    sim_scores = sorted(sim_scores, key=lambda x: x[1], reverse=True)\n",
    "\n",
    "    # Get the scores of the 5 most similar movies\n",
    "    sim_scores = sim_scores[1:6]\n",
    "\n",
    "    # Get the movie indices\n",
    "    movie_indices = [i[0] for i in sim_scores]\n",
    "\n",
    "    # Return the top 5 most similar movies\n",
    "    return df['title'].iloc[movie_indices]"
   ]
  },
  {
   "cell_type": "code",
   "execution_count": 33,
   "id": "84c4d708",
   "metadata": {},
   "outputs": [
    {
     "data": {
      "text/plain": [
       "335                 Anjaam\n",
       "2072       Must Be... Love\n",
       "548      Bollywood Calling\n",
       "1611                 Ready\n",
       "1740    Ek Main Aur Ekk Tu\n",
       "Name: title, dtype: object"
      ]
     },
     "execution_count": 33,
     "metadata": {},
     "output_type": "execute_result"
    }
   ],
   "source": [
    "get_recommendations('Jab We Met')"
   ]
  },
  {
   "cell_type": "markdown",
   "id": "3293370c",
   "metadata": {},
   "source": [
    "Jab we met: Romantic Comedy <br>\n",
    "Anjaam: Psychological thriller <br>\n",
    "Must Be... Love: Romantic Comedy <br>\n",
    "Bollywood Calling: Comedy, drama <br>\n",
    "Ready: Roamtic Comedy <br>\n",
    "Ek Main Aur Ekk Tu: Roamtic Comedy"
   ]
  },
  {
   "cell_type": "markdown",
   "id": "f0b59255",
   "metadata": {},
   "source": [
    "So we can see our recommendation using only plot is approximately 60% correct."
   ]
  },
  {
   "cell_type": "code",
   "execution_count": 34,
   "id": "e277840c",
   "metadata": {
    "scrolled": true
   },
   "outputs": [
    {
     "data": {
      "text/plain": [
       "4191        Good Morning Call\n",
       "616     Raising Victor Vargas\n",
       "4101                The Super\n",
       "5280          Sara's Notebook\n",
       "3837             Legend Quest\n",
       "Name: title, dtype: object"
      ]
     },
     "execution_count": 34,
     "metadata": {},
     "output_type": "execute_result"
    }
   ],
   "source": [
    "get_recommendations('Veronica')"
   ]
  },
  {
   "cell_type": "markdown",
   "id": "d812f8e0",
   "metadata": {},
   "source": [
    "Veronica: Horror, Drama <br>\n",
    "Good Morning Call: Comedy <br>\n",
    "Raising Victor Vargas: Romace, Drama <br>\n",
    "The Super: Action, Comedy, Drama <br>\n",
    "Sara's Notebook: Thriller, Adventure <br>\n",
    "Legend Quest: Sci-Fi, Action"
   ]
  },
  {
   "cell_type": "markdown",
   "id": "15e70d71",
   "metadata": {},
   "source": [
    "So we can see our recommendation using only plot is incorrect. Nothing in the recommendations matches."
   ]
  },
  {
   "cell_type": "markdown",
   "id": "9b2cef97",
   "metadata": {},
   "source": [
    "### Content based filtering on multiple metrics:"
   ]
  },
  {
   "cell_type": "code",
   "execution_count": 39,
   "id": "57b588b0",
   "metadata": {},
   "outputs": [
    {
     "data": {
      "text/html": [
       "<div>\n",
       "<style scoped>\n",
       "    .dataframe tbody tr th:only-of-type {\n",
       "        vertical-align: middle;\n",
       "    }\n",
       "\n",
       "    .dataframe tbody tr th {\n",
       "        vertical-align: top;\n",
       "    }\n",
       "\n",
       "    .dataframe thead th {\n",
       "        text-align: right;\n",
       "    }\n",
       "</style>\n",
       "<table border=\"1\" class=\"dataframe\">\n",
       "  <thead>\n",
       "    <tr style=\"text-align: right;\">\n",
       "      <th></th>\n",
       "      <th>Unnamed: 0</th>\n",
       "      <th>show_id</th>\n",
       "      <th>type</th>\n",
       "      <th>title</th>\n",
       "      <th>director</th>\n",
       "      <th>cast</th>\n",
       "      <th>country</th>\n",
       "      <th>release_year</th>\n",
       "      <th>rating</th>\n",
       "      <th>listed_in</th>\n",
       "      <th>description</th>\n",
       "      <th>date_n</th>\n",
       "      <th>runtime</th>\n",
       "      <th>seasons</th>\n",
       "    </tr>\n",
       "  </thead>\n",
       "  <tbody>\n",
       "    <tr>\n",
       "      <th>0</th>\n",
       "      <td>7790</td>\n",
       "      <td>s7791</td>\n",
       "      <td>Movie</td>\n",
       "      <td>Prelude to War</td>\n",
       "      <td>Frank Capra</td>\n",
       "      <td></td>\n",
       "      <td>United States</td>\n",
       "      <td>1942</td>\n",
       "      <td>TV-14</td>\n",
       "      <td>Classic Movies, Documentaries</td>\n",
       "      <td>Frank Capra's documentary chronicles the rise ...</td>\n",
       "      <td>2017-03-31</td>\n",
       "      <td>52.0</td>\n",
       "      <td></td>\n",
       "    </tr>\n",
       "    <tr>\n",
       "      <th>1</th>\n",
       "      <td>8205</td>\n",
       "      <td>s8206</td>\n",
       "      <td>Movie</td>\n",
       "      <td>The Battle of Midway</td>\n",
       "      <td>John Ford</td>\n",
       "      <td>Henry Fonda, Jane Darwell</td>\n",
       "      <td>United States</td>\n",
       "      <td>1942</td>\n",
       "      <td>TV-14</td>\n",
       "      <td>Classic Movies, Documentaries</td>\n",
       "      <td>Director John Ford captures combat footage of ...</td>\n",
       "      <td>2017-03-31</td>\n",
       "      <td>18.0</td>\n",
       "      <td></td>\n",
       "    </tr>\n",
       "  </tbody>\n",
       "</table>\n",
       "</div>"
      ],
      "text/plain": [
       "   Unnamed: 0 show_id   type                 title     director  \\\n",
       "0        7790   s7791  Movie        Prelude to War  Frank Capra   \n",
       "1        8205   s8206  Movie  The Battle of Midway    John Ford   \n",
       "\n",
       "                        cast        country  release_year rating  \\\n",
       "0                             United States          1942  TV-14   \n",
       "1  Henry Fonda, Jane Darwell  United States          1942  TV-14   \n",
       "\n",
       "                       listed_in  \\\n",
       "0  Classic Movies, Documentaries   \n",
       "1  Classic Movies, Documentaries   \n",
       "\n",
       "                                         description      date_n runtime  \\\n",
       "0  Frank Capra's documentary chronicles the rise ...  2017-03-31    52.0   \n",
       "1  Director John Ford captures combat footage of ...  2017-03-31    18.0   \n",
       "\n",
       "  seasons  \n",
       "0          \n",
       "1          "
      ]
     },
     "execution_count": 39,
     "metadata": {},
     "output_type": "execute_result"
    }
   ],
   "source": [
    "filledna=df.fillna('')\n",
    "filledna.head(2)"
   ]
  },
  {
   "cell_type": "code",
   "execution_count": 40,
   "id": "693ea2b8",
   "metadata": {},
   "outputs": [],
   "source": [
    "def clean_data(x):\n",
    "        return str.lower(x.replace(\" \", \"\"))"
   ]
  },
  {
   "cell_type": "code",
   "execution_count": 41,
   "id": "b9119556",
   "metadata": {},
   "outputs": [],
   "source": [
    "features=['title','director','cast','listed_in','description']\n",
    "filledna=filledna[features]"
   ]
  },
  {
   "cell_type": "code",
   "execution_count": 42,
   "id": "9b1ed9b7",
   "metadata": {},
   "outputs": [
    {
     "data": {
      "text/html": [
       "<div>\n",
       "<style scoped>\n",
       "    .dataframe tbody tr th:only-of-type {\n",
       "        vertical-align: middle;\n",
       "    }\n",
       "\n",
       "    .dataframe tbody tr th {\n",
       "        vertical-align: top;\n",
       "    }\n",
       "\n",
       "    .dataframe thead th {\n",
       "        text-align: right;\n",
       "    }\n",
       "</style>\n",
       "<table border=\"1\" class=\"dataframe\">\n",
       "  <thead>\n",
       "    <tr style=\"text-align: right;\">\n",
       "      <th></th>\n",
       "      <th>title</th>\n",
       "      <th>director</th>\n",
       "      <th>cast</th>\n",
       "      <th>listed_in</th>\n",
       "      <th>description</th>\n",
       "    </tr>\n",
       "  </thead>\n",
       "  <tbody>\n",
       "    <tr>\n",
       "      <th>0</th>\n",
       "      <td>preludetowar</td>\n",
       "      <td>frankcapra</td>\n",
       "      <td></td>\n",
       "      <td>classicmovies,documentaries</td>\n",
       "      <td>frankcapra'sdocumentarychroniclestheriseofauth...</td>\n",
       "    </tr>\n",
       "    <tr>\n",
       "      <th>1</th>\n",
       "      <td>thebattleofmidway</td>\n",
       "      <td>johnford</td>\n",
       "      <td>henryfonda,janedarwell</td>\n",
       "      <td>classicmovies,documentaries</td>\n",
       "      <td>directorjohnfordcapturescombatfootageofthebatt...</td>\n",
       "    </tr>\n",
       "    <tr>\n",
       "      <th>2</th>\n",
       "      <td>whywefight:thebattleofrussia</td>\n",
       "      <td>frankcapra,anatolelitvak</td>\n",
       "      <td></td>\n",
       "      <td>documentaries</td>\n",
       "      <td>thisinstallmentoffrankcapra'sacclaimeddocument...</td>\n",
       "    </tr>\n",
       "    <tr>\n",
       "      <th>3</th>\n",
       "      <td>undercover:howtooperatebehindenemylines</td>\n",
       "      <td>johnford</td>\n",
       "      <td></td>\n",
       "      <td>classicmovies,documentaries</td>\n",
       "      <td>thisworldwarii-eratrainingfilmdramatizeshowsec...</td>\n",
       "    </tr>\n",
       "    <tr>\n",
       "      <th>4</th>\n",
       "      <td>wwii:reportfromthealeutians</td>\n",
       "      <td>johnhuston</td>\n",
       "      <td></td>\n",
       "      <td>documentaries</td>\n",
       "      <td>filmmakerjohnhustonnarratesthisoscar-nominated...</td>\n",
       "    </tr>\n",
       "  </tbody>\n",
       "</table>\n",
       "</div>"
      ],
      "text/plain": [
       "                                     title                  director  \\\n",
       "0                             preludetowar                frankcapra   \n",
       "1                        thebattleofmidway                  johnford   \n",
       "2             whywefight:thebattleofrussia  frankcapra,anatolelitvak   \n",
       "3  undercover:howtooperatebehindenemylines                  johnford   \n",
       "4              wwii:reportfromthealeutians                johnhuston   \n",
       "\n",
       "                     cast                    listed_in  \\\n",
       "0                          classicmovies,documentaries   \n",
       "1  henryfonda,janedarwell  classicmovies,documentaries   \n",
       "2                                        documentaries   \n",
       "3                          classicmovies,documentaries   \n",
       "4                                        documentaries   \n",
       "\n",
       "                                         description  \n",
       "0  frankcapra'sdocumentarychroniclestheriseofauth...  \n",
       "1  directorjohnfordcapturescombatfootageofthebatt...  \n",
       "2  thisinstallmentoffrankcapra'sacclaimeddocument...  \n",
       "3  thisworldwarii-eratrainingfilmdramatizeshowsec...  \n",
       "4  filmmakerjohnhustonnarratesthisoscar-nominated...  "
      ]
     },
     "execution_count": 42,
     "metadata": {},
     "output_type": "execute_result"
    }
   ],
   "source": [
    "for feature in features:\n",
    "    filledna[feature] = filledna[feature].apply(clean_data)\n",
    "    \n",
    "filledna.head()"
   ]
  },
  {
   "cell_type": "code",
   "execution_count": 43,
   "id": "5310329e",
   "metadata": {},
   "outputs": [],
   "source": [
    "def create_soup(x):\n",
    "    return x['title']+ ' ' + x['director'] + ' ' + x['cast'] + ' ' +x['listed_in']+' '+ x['description']"
   ]
  },
  {
   "cell_type": "code",
   "execution_count": 44,
   "id": "6eae18cd",
   "metadata": {},
   "outputs": [],
   "source": [
    "filledna['soup'] = filledna.apply(create_soup, axis=1)"
   ]
  },
  {
   "cell_type": "code",
   "execution_count": 45,
   "id": "e5ffd0b0",
   "metadata": {},
   "outputs": [],
   "source": [
    "from sklearn.feature_extraction.text import CountVectorizer\n",
    "from sklearn.metrics.pairwise import cosine_similarity\n",
    "\n",
    "count = CountVectorizer(stop_words='english')\n",
    "count_matrix = count.fit_transform(filledna['soup'])\n",
    "\n",
    "cosine_sim2 = cosine_similarity(count_matrix, count_matrix)"
   ]
  },
  {
   "cell_type": "code",
   "execution_count": 46,
   "id": "6f8d24a6",
   "metadata": {},
   "outputs": [],
   "source": [
    "filledna=filledna.reset_index()\n",
    "indices = pd.Series(filledna.index, index=filledna['title'])"
   ]
  },
  {
   "cell_type": "code",
   "execution_count": 51,
   "id": "a6fbeed0",
   "metadata": {},
   "outputs": [],
   "source": [
    "def get_recommendations_new(title, cosine_sim=cosine_sim):\n",
    "    title=title.replace(' ','').lower()\n",
    "    idx = indices[title]\n",
    "\n",
    "    # Get the pairwsie similarity scores of all movies with that movie\n",
    "    sim_scores = list(enumerate(cosine_sim[idx]))\n",
    "\n",
    "    # Sort the movies based on the similarity scores\n",
    "    sim_scores = sorted(sim_scores, key=lambda x: x[1], reverse=True)\n",
    "\n",
    "    # Get the scores of the 5 most similar movies\n",
    "    sim_scores = sim_scores[1:6]\n",
    "\n",
    "    # Get the movie indices\n",
    "    movie_indices = [i[0] for i in sim_scores]\n",
    "\n",
    "    # Return the top 5 most similar movies\n",
    "    return df['title'].iloc[movie_indices]"
   ]
  },
  {
   "cell_type": "code",
   "execution_count": 52,
   "id": "6d737a83",
   "metadata": {
    "scrolled": true
   },
   "outputs": [
    {
     "data": {
      "text/plain": [
       "1108    Golmaal Returns\n",
       "2313      The Shaukeens\n",
       "3585            Görümce\n",
       "637          Ishq Vishk\n",
       "666              Khushi\n",
       "Name: title, dtype: object"
      ]
     },
     "execution_count": 52,
     "metadata": {},
     "output_type": "execute_result"
    }
   ],
   "source": [
    "get_recommendations_new('Jab We Met', cosine_sim2)"
   ]
  },
  {
   "cell_type": "markdown",
   "id": "3bbffb97",
   "metadata": {},
   "source": [
    "Jab we met: Romantic Comedy <br>\n",
    "Golmaal Returns: Comedy <br>\n",
    "The Shaukeens: Comedy <br>\n",
    "Görümce: Romantic Comedy <br>\n",
    "Ishq Vishk: Romantic Comedy <br>\n",
    "Khushi: Romantic Comedy"
   ]
  },
  {
   "cell_type": "markdown",
   "id": "0e95fbd7",
   "metadata": {},
   "source": [
    "So we can see our recommendation using multiple metrices is approximately 60% correct."
   ]
  },
  {
   "cell_type": "code",
   "execution_count": 53,
   "id": "e867d1fc",
   "metadata": {
    "scrolled": false
   },
   "outputs": [
    {
     "data": {
      "text/plain": [
       "3949                                           Kanika\n",
       "3795    I Am the Pretty Thing That Lives in the House\n",
       "7373                                      The Binding\n",
       "7523                                           #Alive\n",
       "7596                                       HOMUNCULUS\n",
       "Name: title, dtype: object"
      ]
     },
     "execution_count": 53,
     "metadata": {},
     "output_type": "execute_result"
    }
   ],
   "source": [
    "get_recommendations_new('Veronica', cosine_sim2)"
   ]
  },
  {
   "cell_type": "markdown",
   "id": "8832471e",
   "metadata": {},
   "source": [
    "Veronica: Horror, Drama <br>\n",
    "Kanika: Horror <br>\n",
    "I Am the Pretty Thing That Lives in the House: Horror <br>\n",
    "The Binding: Horror <br>\n",
    "#Alive: Drama, Thriller <br>\n",
    "HOMUNCULUS: Psychological Horror"
   ]
  },
  {
   "cell_type": "markdown",
   "id": "3dfd521b",
   "metadata": {},
   "source": [
    "There is an increase in the accuracy of recommendations in case of multiple metrics. We can see 80% of recommendations are correct."
   ]
  }
 ],
 "metadata": {
  "kernelspec": {
   "display_name": "Python 3 (ipykernel)",
   "language": "python",
   "name": "python3"
  },
  "language_info": {
   "codemirror_mode": {
    "name": "ipython",
    "version": 3
   },
   "file_extension": ".py",
   "mimetype": "text/x-python",
   "name": "python",
   "nbconvert_exporter": "python",
   "pygments_lexer": "ipython3",
   "version": "3.9.12"
  }
 },
 "nbformat": 4,
 "nbformat_minor": 5
}
